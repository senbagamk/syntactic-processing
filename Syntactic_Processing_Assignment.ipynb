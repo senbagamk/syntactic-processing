{
  "nbformat": 4,
  "nbformat_minor": 0,
  "metadata": {
    "colab": {
      "provenance": []
    },
    "kernelspec": {
      "name": "python3",
      "display_name": "Python 3"
    },
    "language_info": {
      "name": "python"
    }
  },
  "cells": [
    {
      "cell_type": "markdown",
      "source": [
        "##Syntactic Processing - Assignment\n",
        "\n",
        "#Problem Statement\n",
        "1. A health-Tech Company ‘BeHealthy’ aims to connect the medical communities with millions of patients across the country.\n",
        "\n",
        "2. ‘BeHealthy’ has a web platform that allows doctors to list their services and manage patient interactions and provides services for patients such as booking interactions with doctors and ordering medicines online. Here, doctors can easily organise appointments, track past medical records and provide e-prescriptions.\n",
        "\n",
        "3. ‘BeHealthy’ provides medical services, prescriptions and online consultations and generating huge data day by day.\n",
        "\n",
        "##Objective\n",
        "\n",
        "You need to build a custom NER to get the list of diseases and their treatment from the dataset."
      ],
      "metadata": {
        "id": "ZzfvhOBB9ZfO"
      }
    },
    {
      "cell_type": "markdown",
      "source": [
        "#1. Data preprocessing\n",
        "\n",
        "1.Construct proper sentences from individual words and print five sentences along with their labels.\n",
        "\n",
        "2. Print the correct count of the number of sentences in the processed train and test dataset.\n",
        "\n",
        "3. Correctly count the number of lines of labels in the processed train and test dataset."
      ],
      "metadata": {
        "id": "J7dchE5W9zbu"
      }
    },
    {
      "cell_type": "code",
      "source": [
        "# Import Basic libariries\n",
        "import numpy as np\n",
        "import pandas as pd\n",
        "import struct\n",
        "import array\n",
        "import warnings\n",
        "warnings.filterwarnings(\"ignore\")"
      ],
      "metadata": {
        "id": "mIPtCSua-Dge"
      },
      "execution_count": 1,
      "outputs": []
    },
    {
      "cell_type": "markdown",
      "source": [
        "# Identifying Entities in Healthcare Data"
      ],
      "metadata": {
        "id": "aA8PRXoI-VtJ"
      }
    },
    {
      "cell_type": "code",
      "source": [
        "!pip install pycrf\n",
        "!pip install sklearn-crfsuite\n",
        "\n",
        "import spacy\n",
        "import sklearn_crfsuite\n",
        "from sklearn_crfsuite import metrics\n",
        "\n",
        "model = spacy.load(\"en_core_web_sm\")"
      ],
      "metadata": {
        "colab": {
          "base_uri": "https://localhost:8080/"
        },
        "id": "I_wffu3V-VS5",
        "outputId": "262a3bc0-aa0d-4e99-f822-1bc21609ac59"
      },
      "execution_count": 2,
      "outputs": [
        {
          "output_type": "stream",
          "name": "stdout",
          "text": [
            "Looking in indexes: https://pypi.org/simple, https://us-python.pkg.dev/colab-wheels/public/simple/\n",
            "Collecting pycrf\n",
            "  Downloading pycrf-0.0.1.tar.gz (1.1 kB)\n",
            "  Preparing metadata (setup.py) ... \u001b[?25l\u001b[?25hdone\n",
            "Building wheels for collected packages: pycrf\n",
            "  Building wheel for pycrf (setup.py) ... \u001b[?25l\u001b[?25hdone\n",
            "  Created wheel for pycrf: filename=pycrf-0.0.1-py3-none-any.whl size=1869 sha256=b4e4f434f5659ac7ac0dc622bcc3599bc8fb3f102ac6d3da28f80748c24fad61\n",
            "  Stored in directory: /root/.cache/pip/wheels/fd/3a/fb/e4d15c9c2b169f43811b23a863ee9717ff3eda5d2301789043\n",
            "Successfully built pycrf\n",
            "Installing collected packages: pycrf\n",
            "Successfully installed pycrf-0.0.1\n",
            "Looking in indexes: https://pypi.org/simple, https://us-python.pkg.dev/colab-wheels/public/simple/\n",
            "Collecting sklearn-crfsuite\n",
            "  Downloading sklearn_crfsuite-0.3.6-py2.py3-none-any.whl (12 kB)\n",
            "Collecting python-crfsuite>=0.8.3 (from sklearn-crfsuite)\n",
            "  Downloading python_crfsuite-0.9.9-cp310-cp310-manylinux_2_17_x86_64.manylinux2014_x86_64.whl (993 kB)\n",
            "\u001b[2K     \u001b[90m━━━━━━━━━━━━━━━━━━━━━━━━━━━━━━━━━━━━━━\u001b[0m \u001b[32m993.5/993.5 kB\u001b[0m \u001b[31m20.4 MB/s\u001b[0m eta \u001b[36m0:00:00\u001b[0m\n",
            "\u001b[?25hRequirement already satisfied: six in /usr/local/lib/python3.10/dist-packages (from sklearn-crfsuite) (1.16.0)\n",
            "Requirement already satisfied: tabulate in /usr/local/lib/python3.10/dist-packages (from sklearn-crfsuite) (0.8.10)\n",
            "Requirement already satisfied: tqdm>=2.0 in /usr/local/lib/python3.10/dist-packages (from sklearn-crfsuite) (4.65.0)\n",
            "Installing collected packages: python-crfsuite, sklearn-crfsuite\n",
            "Successfully installed python-crfsuite-0.9.9 sklearn-crfsuite-0.3.6\n"
          ]
        }
      ]
    },
    {
      "cell_type": "markdown",
      "source": [
        "##Data Preprocessing\n",
        "\n",
        "The dataset provided is in the form of one word per line. Let's understand the format of data below:\n",
        "- Suppose there are *x* words in a sentence, then there will be *x* continuous lines with one word in each line. \n",
        "- Further, the two sentences are separated by empty lines. The labels for the data follow the same format.\n",
        "\n",
        "**We need to pre-process the data to recover the complete sentences and their labels.**\n"
      ],
      "metadata": {
        "id": "FTOwULBN_Cas"
      }
    },
    {
      "cell_type": "code",
      "source": [
        "# Setting up Google Colab for usage. Please disable if running locally.\n",
        "import pathlib\n",
        "import os\n",
        "from google.colab import drive\n",
        "drive.mount('/content/gdrive')\n",
        "base_dir = pathlib.Path('/content/gdrive/MyDrive/Syntactic Processing')\n",
        "os.chdir(str(base_dir))"
      ],
      "metadata": {
        "colab": {
          "base_uri": "https://localhost:8080/"
        },
        "id": "5pv3znwh_B0Q",
        "outputId": "896d9c72-bdf3-4e3d-a2d7-142bcd283398"
      },
      "execution_count": 3,
      "outputs": [
        {
          "output_type": "stream",
          "name": "stdout",
          "text": [
            "Mounted at /content/gdrive\n"
          ]
        }
      ]
    },
    {
      "cell_type": "code",
      "source": [
        "# Define function to read binary file and decode into strings\n",
        "def read_binary_file(filename):\n",
        "    items = []\n",
        "    with open(filename, 'r') as f:\n",
        "      items = f.read().splitlines()\n",
        "    return items"
      ],
      "metadata": {
        "id": "Y0hHYlntBXsL"
      },
      "execution_count": 5,
      "outputs": []
    },
    {
      "cell_type": "code",
      "source": [
        "# Read in labels and text from binary files\n",
        "train_labels = read_binary_file('/content/gdrive/MyDrive/Syntactic Processing/train_label')\n",
        "train_text = read_binary_file('/content/gdrive/MyDrive/Syntactic Processing/train_sent')\n",
        "test_labels = read_binary_file('/content/gdrive/MyDrive/Syntactic Processing/test_label')\n",
        "test_text = read_binary_file('/content/gdrive/MyDrive/Syntactic Processing/test_sent')\n",
        "\n",
        "df_train = pd.DataFrame({'label': train_labels, 'text': train_text})\n",
        "df_test = pd.DataFrame({'label': test_labels, 'text': test_text})\n",
        "print (\"Train Dataset\\n\" , df_train.head(5))\n",
        "print (\"\\n\\nTest Dataset\\n\" , df_test.head(5))"
      ],
      "metadata": {
        "colab": {
          "base_uri": "https://localhost:8080/"
        },
        "id": "5BG6gUQCA7M2",
        "outputId": "76302c86-e8a1-434a-b7a3-0c8b5a78d29f"
      },
      "execution_count": 6,
      "outputs": [
        {
          "output_type": "stream",
          "name": "stdout",
          "text": [
            "Train Dataset\n",
            "   label    text\n",
            "0     O     All\n",
            "1     O    live\n",
            "2     O  births\n",
            "3     O       >\n",
            "4     O      or\n",
            "\n",
            "\n",
            "Test Dataset\n",
            "   label         text\n",
            "0     O  Furthermore\n",
            "1     O            ,\n",
            "2     O         when\n",
            "3     O          all\n",
            "4     O   deliveries\n"
          ]
        }
      ]
    },
    {
      "cell_type": "markdown",
      "source": [
        "### Construct the proper sentences from individual words and print the 5 sentences."
      ],
      "metadata": {
        "id": "D8OK85QT_dTS"
      }
    },
    {
      "cell_type": "markdown",
      "source": [
        "![image.png](data:image/png;base64,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)\n",
        "\n",
        "![image.png](data:image/png;base64,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)"
      ],
      "metadata": {
        "id": "fLjoBRx-_lNG"
      }
    },
    {
      "cell_type": "code",
      "source": [
        "# Reading the train and test sentences and labels\n",
        "with open('train_sent', 'r') as train_sent_file:\n",
        "  train_words = train_sent_file.readlines()\n",
        "\n",
        "with open('train_label', 'r') as train_labels_file:\n",
        "  train_labels_by_word = train_labels_file.readlines()\n",
        "\n",
        "with open('test_sent', 'r') as test_sent_file:\n",
        "  test_words = test_sent_file.readlines()\n",
        "\n",
        "with open('test_label', 'r') as test_labels_file:\n",
        "  test_labels_by_word = test_labels_file.readlines()"
      ],
      "metadata": {
        "id": "U32U7lLDBpL3"
      },
      "execution_count": 7,
      "outputs": []
    },
    {
      "cell_type": "code",
      "source": [
        "# Sanity check to see that the number of tokens and no. of corresponding labels match.\n",
        "print(\"Count of tokens in training set\\n\",\"No. of words: \",len(train_words),\"\\nNo. of labels: \",len(train_labels_by_word))\n",
        "print(\"\\n\\nCount of tokens in test set\\n\",\"No. of words: \",len(test_words),\"\\nNo. of labels: \",len(test_labels_by_word))"
      ],
      "metadata": {
        "colab": {
          "base_uri": "https://localhost:8080/"
        },
        "id": "YdNiOyH2Btf9",
        "outputId": "320d5abd-f1f0-4613-fb78-c87b8ff95876"
      },
      "execution_count": 8,
      "outputs": [
        {
          "output_type": "stream",
          "name": "stdout",
          "text": [
            "Count of tokens in training set\n",
            " No. of words:  48501 \n",
            "No. of labels:  48501\n",
            "\n",
            "\n",
            "Count of tokens in test set\n",
            " No. of words:  19674 \n",
            "No. of labels:  19674\n"
          ]
        }
      ]
    },
    {
      "cell_type": "code",
      "source": [
        "# Function to combine tokens belonging to the same sentence. Sentences are separated by \"\\n\" in the dataset.\n",
        "def convert_to_sentences(dataset):\n",
        "    sent_list = []\n",
        "    sent = \"\"\n",
        "    for entity in dataset:\n",
        "        if entity != '\\n':\n",
        "            sent = sent + entity[:-1] + \" \"       # Adding word/label to current sentence / sequence of labels \n",
        "        else: \n",
        "            sent_list.append(sent[:-1])           # Getting rid of the space added after the last entity.\n",
        "            sent = \"\"\n",
        "    return sent_list"
      ],
      "metadata": {
        "id": "lMoHJ69XBxv-"
      },
      "execution_count": 9,
      "outputs": []
    },
    {
      "cell_type": "code",
      "source": [
        "# Converting tokens to sentences and individual labels to sequences of corresponding labels.\n",
        "train_sentences = convert_to_sentences(train_words)\n",
        "train_labels = convert_to_sentences(train_labels_by_word)\n",
        "test_sentences = convert_to_sentences(test_words)\n",
        "test_labels = convert_to_sentences(test_labels_by_word)"
      ],
      "metadata": {
        "id": "EpiQbBvJB2C3"
      },
      "execution_count": 10,
      "outputs": []
    },
    {
      "cell_type": "code",
      "source": [
        "print(\"First five training sentences and their labels:\\n\")\n",
        "for i in range(5):\n",
        "    print(train_sentences[i],\"\\n\",train_labels[i],\"\\n\")"
      ],
      "metadata": {
        "colab": {
          "base_uri": "https://localhost:8080/"
        },
        "id": "ezhHDksVB4co",
        "outputId": "541454df-c72c-4872-ec75-095abfd6a1ce"
      },
      "execution_count": 11,
      "outputs": [
        {
          "output_type": "stream",
          "name": "stdout",
          "text": [
            "First five training sentences and their labels:\n",
            "\n",
            "All live births > or = 23 weeks at the University of Vermont in 1995 ( n = 2395 ) were retrospectively analyzed for delivery route , indication for cesarean , gestational age , parity , and practice group ( to reflect risk status ) \n",
            " O O O O O O O O O O O O O O O O O O O O O O O O O O O O O O O O O O O O O O O O O O O O O \n",
            "\n",
            "The total cesarean rate was 14.4 % ( 344 of 2395 ) , and the primary rate was 11.4 % ( 244 of 2144 ) \n",
            " O O O O O O O O O O O O O O O O O O O O O O O O O \n",
            "\n",
            "Abnormal presentation was the most common indication ( 25.6 % , 88 of 344 ) \n",
            " O O O O O O O O O O O O O O O \n",
            "\n",
            "The `` corrected '' cesarean rate ( maternal-fetal medicine and transported patients excluded ) was 12.4 % ( 273 of 2194 ) , and the `` corrected '' primary rate was 9.6 % ( 190 of 1975 ) \n",
            " O O O O O O O O O O O O O O O O O O O O O O O O O O O O O O O O O O O O O O \n",
            "\n",
            "Arrest of dilation was the most common indication in both `` corrected '' subgroups ( 23.4 and 24.6 % , respectively ) \n",
            " O O O O O O O O O O O O O O O O O O O O O O \n",
            "\n"
          ]
        }
      ]
    },
    {
      "cell_type": "code",
      "source": [
        "print(\"First five test sentences and their labels:\\n\")\n",
        "for i in range(5):\n",
        "    print(test_sentences[i],\"\\n\",test_labels[i],\"\\n\")"
      ],
      "metadata": {
        "colab": {
          "base_uri": "https://localhost:8080/"
        },
        "id": "Pdo9ZaviB8UP",
        "outputId": "6bb94841-c41f-4121-dddf-e0efb717eece"
      },
      "execution_count": 12,
      "outputs": [
        {
          "output_type": "stream",
          "name": "stdout",
          "text": [
            "First five test sentences and their labels:\n",
            "\n",
            "Furthermore , when all deliveries were analyzed , regardless of risk status but limited to gestational age > or = 36 weeks , the rates did not change ( 12.6 % , 280 of 2214 ; primary 9.2 % , 183 of 1994 ) \n",
            " O O O O O O O O O O O O O O O O O O O O O O O O O O O O O O O O O O O O O O O O O O O O \n",
            "\n",
            "As the ambient temperature increases , there is an increase in insensible fluid loss and the potential for dehydration \n",
            " O O O O O O O O O O O O O O O O O O O \n",
            "\n",
            "The daily high temperature ranged from 71 to 104 degrees F and AFI values ranged from 1.7 to 24.7 cm during the study period \n",
            " O O O O O O O O O O O O O O O O O O O O O O O O \n",
            "\n",
            "There was a significant correlation between the 2- , 3- , and 4-day mean temperature and AFI , with the 4-day mean being the most significant ( r = 0.31 , p & # 60 ; 0.001 ) \n",
            " O O O O O O O O O O O O O O O O O O O O O O O O O O O O O O O O O O O O O O \n",
            "\n",
            "Fluctuations in ambient temperature are inversely correlated to changes in AFI \n",
            " O O O O O O O O O O O \n",
            "\n"
          ]
        }
      ]
    },
    {
      "cell_type": "markdown",
      "source": [
        "#Count the number of sentences in the processed train and test dataset"
      ],
      "metadata": {
        "id": "2UiwwxDAB_qW"
      }
    },
    {
      "cell_type": "code",
      "source": [
        "print(\"Number of sentences in the train dataset: {}\".format(len(train_sentences)))\n",
        "print(\"Number of sentences in the test dataset: {}\".format(len(test_sentences)))"
      ],
      "metadata": {
        "colab": {
          "base_uri": "https://localhost:8080/"
        },
        "id": "EXs-Vw3bCCMJ",
        "outputId": "a10cccdd-e384-407a-938d-20d57f6a8506"
      },
      "execution_count": 13,
      "outputs": [
        {
          "output_type": "stream",
          "name": "stdout",
          "text": [
            "Number of sentences in the train dataset: 2599\n",
            "Number of sentences in the test dataset: 1056\n"
          ]
        }
      ]
    },
    {
      "cell_type": "markdown",
      "source": [
        "#Count the number of lines of labels in the processed train and test dataset."
      ],
      "metadata": {
        "id": "HQlsVsDACIc6"
      }
    },
    {
      "cell_type": "code",
      "source": [
        "print(\"Number of lines of labels in the train dataset: {}\".format(len(train_labels)))\n",
        "print(\"Number of lines of labels in the test dataset: {}\".format(len(test_labels)))"
      ],
      "metadata": {
        "colab": {
          "base_uri": "https://localhost:8080/"
        },
        "id": "sxRaZVoKCHad",
        "outputId": "7bd20503-17a7-42aa-c1b0-aedb4c475d94"
      },
      "execution_count": 14,
      "outputs": [
        {
          "output_type": "stream",
          "name": "stdout",
          "text": [
            "Number of lines of labels in the train dataset: 2599\n",
            "Number of lines of labels in the test dataset: 1056\n"
          ]
        }
      ]
    },
    {
      "cell_type": "markdown",
      "source": [
        "##Concept Identification\n",
        "\n",
        "We will first explore what are the various concepts present in the dataset. For this, we will use PoS Tagging. "
      ],
      "metadata": {
        "id": "n1jm9jGdCUmJ"
      }
    },
    {
      "cell_type": "markdown",
      "source": [
        "## Extract those tokens which have NOUN or PROPN as their PoS tag and find their frequency"
      ],
      "metadata": {
        "id": "rHJCWBVWCdTx"
      }
    },
    {
      "cell_type": "code",
      "source": [
        "# Creating a combined dataset from training and test sentences, since this is an Exploratory analysis.\n",
        "combined = train_sentences + test_sentences\n",
        "print(\"Number of sentences in combined dataset (training + test): {}\".format(len(combined)))"
      ],
      "metadata": {
        "colab": {
          "base_uri": "https://localhost:8080/"
        },
        "id": "-U8-JlMICeRX",
        "outputId": "eb2e1e47-e92e-4551-c343-a785f651ecf4"
      },
      "execution_count": 15,
      "outputs": [
        {
          "output_type": "stream",
          "name": "stdout",
          "text": [
            "Number of sentences in combined dataset (training + test): 3655\n"
          ]
        }
      ]
    },
    {
      "cell_type": "code",
      "source": [
        "# Creating a list of tokens which have PoS tag of 'NOUN' or 'PROPN'\n",
        "noun_propn = []         # Initiating list for nouns and proper nouns\n",
        "pos_tag = []            # initiating list for corresponding PoS tags.\n",
        "for sent in combined:\n",
        "    for token in model(sent):\n",
        "        if token.pos_ in ['NOUN', 'PROPN']:\n",
        "           noun_propn.append(token.text)\n",
        "           pos_tag.append(token.pos_)\n",
        "print(\"No. of tokens in combined dataset with PoS tag of 'NOUN' or 'PROPN': {}\".format(len(noun_propn)))"
      ],
      "metadata": {
        "colab": {
          "base_uri": "https://localhost:8080/"
        },
        "id": "rBqgw8RGCqjw",
        "outputId": "a19b0998-388c-469a-fb34-031777b943d2"
      },
      "execution_count": 16,
      "outputs": [
        {
          "output_type": "stream",
          "name": "stdout",
          "text": [
            "No. of tokens in combined dataset with PoS tag of 'NOUN' or 'PROPN': 24373\n"
          ]
        }
      ]
    },
    {
      "cell_type": "code",
      "source": [
        "print(len(pos_tag))"
      ],
      "metadata": {
        "colab": {
          "base_uri": "https://localhost:8080/"
        },
        "id": "vS9O_8agCl8K",
        "outputId": "f6d4c1ff-e6aa-4550-f14d-83d007c35436"
      },
      "execution_count": 17,
      "outputs": [
        {
          "output_type": "stream",
          "name": "stdout",
          "text": [
            "24373\n"
          ]
        }
      ]
    },
    {
      "cell_type": "markdown",
      "source": [
        "#Print the top 25 most common tokens with NOUN or PROPN PoS tags"
      ],
      "metadata": {
        "id": "1DmzghnwC14Z"
      }
    },
    {
      "cell_type": "code",
      "source": [
        "noun_pos = pd.DataFrame({\"NOUN_PROPN\":noun_propn,\"POS_tag\":pos_tag})\n",
        "print(\"Top 25 comon tokens with PoS tag of 'NOUN' or 'PROPN' \\n\")\n",
        "print(noun_pos[\"NOUN_PROPN\"].value_counts().head(25))"
      ],
      "metadata": {
        "colab": {
          "base_uri": "https://localhost:8080/"
        },
        "id": "tPNk-7OfC6Ej",
        "outputId": "879f3bbd-0f49-46ec-f130-6526c5dc09dc"
      },
      "execution_count": 18,
      "outputs": [
        {
          "output_type": "stream",
          "name": "stdout",
          "text": [
            "Top 25 comon tokens with PoS tag of 'NOUN' or 'PROPN' \n",
            "\n",
            "patients        492\n",
            "treatment       281\n",
            "%               247\n",
            "cancer          200\n",
            "therapy         175\n",
            "study           154\n",
            "disease         142\n",
            "cell            140\n",
            "lung            116\n",
            "group            94\n",
            "chemotherapy     88\n",
            "gene             87\n",
            "effects          85\n",
            "results          79\n",
            "women            77\n",
            "use              74\n",
            "TO_SEE           74\n",
            "risk             71\n",
            "surgery          71\n",
            "cases            71\n",
            "analysis         70\n",
            "rate             67\n",
            "response         66\n",
            "survival         65\n",
            "children         64\n",
            "Name: NOUN_PROPN, dtype: int64\n"
          ]
        }
      ]
    },
    {
      "cell_type": "markdown",
      "source": [
        "#Defining features for CRF"
      ],
      "metadata": {
        "id": "XY2a-GONC9g4"
      }
    },
    {
      "cell_type": "code",
      "source": [
        "# Analysis of PoS tags - Independent assignment for words vs Contextual assignment in a sentence.\n",
        "sentence = train_sentences[1]   \n",
        "sent_list = sentence.split()      # Splitting the sentence into its constituent words.\n",
        "position = 2                      # Choosing position of word within sentence. Index starts at 0.\n",
        "\n",
        "word = sent_list[position]        # Extracting word for PoS tag analysis.\n",
        "\n",
        "print(sentence)\n",
        "\n",
        "# Independent assignment of PoS tag (No contextual info)\n",
        "print(\"\\nPoS tag of word in isolation\\nWord:\",word,\"--\",model(word)[0].pos_,\"\\n\")\n",
        "\n",
        "# Contextual assignment of PoS tag based on other words in the sentence.\n",
        "print(\"PoS tag of all words in sentence with context in tact.\")\n",
        "for token in model(sentence):\n",
        "    print(token.text, \"--\", token.pos_)\n",
        "\n",
        "# Modified workflow to obtain PoS tag of specific word in question while keeping sentence context in tact.\n",
        "print(\"\\nResult of modified workflow to obtain PoS tag of word at a specific position while keeping context within sentence in-tact.\")\n",
        "cnt = 0                           # Count of the word position within sentence.\n",
        "for token in model(sentence):\n",
        "      postag = token.pos_\n",
        "      if (token.text == word) and (cnt == position):\n",
        "          break\n",
        "      cnt += 1\n",
        "print(\"Word:\", word,\"POSTAG:\",postag)"
      ],
      "metadata": {
        "colab": {
          "base_uri": "https://localhost:8080/"
        },
        "id": "d2exUI4SDAQK",
        "outputId": "d1126baf-accc-4a65-9eed-07b739d8c6f1"
      },
      "execution_count": 19,
      "outputs": [
        {
          "output_type": "stream",
          "name": "stdout",
          "text": [
            "The total cesarean rate was 14.4 % ( 344 of 2395 ) , and the primary rate was 11.4 % ( 244 of 2144 )\n",
            "\n",
            "PoS tag of word in isolation\n",
            "Word: cesarean -- VERB \n",
            "\n",
            "PoS tag of all words in sentence with context in tact.\n",
            "The -- DET\n",
            "total -- ADJ\n",
            "cesarean -- ADJ\n",
            "rate -- NOUN\n",
            "was -- AUX\n",
            "14.4 -- NUM\n",
            "% -- NOUN\n",
            "( -- PUNCT\n",
            "344 -- NUM\n",
            "of -- ADP\n",
            "2395 -- NUM\n",
            ") -- PUNCT\n",
            ", -- PUNCT\n",
            "and -- CCONJ\n",
            "the -- DET\n",
            "primary -- ADJ\n",
            "rate -- NOUN\n",
            "was -- AUX\n",
            "11.4 -- NUM\n",
            "% -- NOUN\n",
            "( -- PUNCT\n",
            "244 -- NUM\n",
            "of -- ADP\n",
            "2144 -- NUM\n",
            ") -- PUNCT\n",
            "\n",
            "Result of modified workflow to obtain PoS tag of word at a specific position while keeping context within sentence in-tact.\n",
            "Word: cesarean POSTAG: ADJ\n"
          ]
        }
      ]
    },
    {
      "cell_type": "markdown",
      "source": [
        "Oberservation : As we can see in the analysis above, the PoS tag of the word \"cesarean\" is not captured correctly if the word is considered individually. However, if the word is considered as a part of the sentence, then it is captured correctly. Defining a function below to execute this."
      ],
      "metadata": {
        "id": "HvL9eFo1DaJJ"
      }
    },
    {
      "cell_type": "code",
      "source": [
        "# Function to obtain contextual PoS tagger.\n",
        "def contextual_pos_tagger(sent_list,position):\n",
        "    '''Obtaining PoS tag for individual word with sentence context in-tact. \n",
        "       If the PoS tag is obtained for a word individually, it may not capture the context of use in the sentence and may assign the incorrect PoS tag.'''\n",
        "\n",
        "    sentence = \" \".join(sent_list)          # Sentence needs to be in string format to process it with spacy model. List of words won't work.\n",
        "    posit = 0                               # Initialising variable to record position of word in joined sentence to compare with the position of the word under considertion.\n",
        "    for token in model(sentence):\n",
        "        postag = token.pos_\n",
        "        if (token.text == word) and (posit == position):\n",
        "            break\n",
        "        posit += 1\n",
        "    return postag"
      ],
      "metadata": {
        "id": "wz53jM4pDetq"
      },
      "execution_count": 20,
      "outputs": []
    },
    {
      "cell_type": "code",
      "source": [
        "# Define the features to get the feature values for one word.\n",
        "def getFeaturesForOneWord(sent_list, position):\n",
        "  word = sent_list[position]\n",
        "    \n",
        "  # Obtaining features for current word\n",
        "  features = [\n",
        "    'word.lower=' + word.lower(),                                   # serves as word id\n",
        "    'word.postag=' + contextual_pos_tagger(sent_list, position),    # PoS tag of current word\n",
        "    'word[-3:]=' + word[-3:],                                       # last three characters\n",
        "    'word[-2:]=' + word[-2:],                                       # last two characters\n",
        "    'word.isupper=%s' % word.isupper(),                             # is the word in all uppercase\n",
        "    'word.isdigit=%s' % word.isdigit(),                             # is the word a number\n",
        "    'words.startsWithCapital=%s' % word[0].isupper()                # is the word starting with a capital letter\n",
        "  ]\n",
        " \n",
        "  if(position > 0):\n",
        "    prev_word = sent_list[position-1]\n",
        "    features.extend([\n",
        "    'prev_word.lower=' + prev_word.lower(),                               # previous word\n",
        "    'prev_word.postag=' + contextual_pos_tagger(sent_list, position - 1), # PoS tag of previous word\n",
        "    'prev_word.isupper=%s' % prev_word.isupper(),                         # is the previous word in all uppercase\n",
        "    'prev_word.isdigit=%s' % prev_word.isdigit(),                         # is the previous word a number\n",
        "    'prev_words.startsWithCapital=%s' % prev_word[0].isupper()            # is the previous word starting with a capital letter\n",
        "  ])\n",
        "  else:\n",
        "    features.append('BEG')                                                # feature to track begin of sentence \n",
        " \n",
        "  if(position == len(sent_list)-1):\n",
        "    features.append('END')                                                # feature to track end of sentence\n",
        " \n",
        "  return features"
      ],
      "metadata": {
        "id": "p_IGxZuSDk60"
      },
      "execution_count": 21,
      "outputs": []
    },
    {
      "cell_type": "markdown",
      "source": [
        "#Getting the features\n",
        "\n",
        "##Write a code/function to get the features for a sentence"
      ],
      "metadata": {
        "id": "pPhFnq7hDpYs"
      }
    },
    {
      "cell_type": "code",
      "source": [
        "# Write a code to get features for a sentence.\n",
        "def getFeaturesForOneSentence(sentence):\n",
        "  sentence_list = sentence.split()\n",
        "  return [getFeaturesForOneWord(sentence_list, position) for position in range(len(sentence_list))]"
      ],
      "metadata": {
        "id": "xj91lX8kDs0j"
      },
      "execution_count": 22,
      "outputs": []
    },
    {
      "cell_type": "code",
      "source": [
        "# Checking feature extraction\n",
        "example_sentence = train_sentences[5]\n",
        "print(example_sentence)\n",
        "\n",
        "features = getFeaturesForOneSentence(example_sentence)\n",
        "features[0]"
      ],
      "metadata": {
        "colab": {
          "base_uri": "https://localhost:8080/"
        },
        "id": "4K93rwLADyRD",
        "outputId": "3c17b642-ffc0-4d4b-9074-98095c0d4b62"
      },
      "execution_count": 23,
      "outputs": [
        {
          "output_type": "stream",
          "name": "stdout",
          "text": [
            "Cesarean rates at tertiary care hospitals should be compared with rates at community hospitals only after correcting for dissimilar patient groups or gestational age\n"
          ]
        },
        {
          "output_type": "execute_result",
          "data": {
            "text/plain": [
              "['word.lower=cesarean',\n",
              " 'word.postag=NOUN',\n",
              " 'word[-3:]=ean',\n",
              " 'word[-2:]=an',\n",
              " 'word.isupper=False',\n",
              " 'word.isdigit=False',\n",
              " 'words.startsWithCapital=True',\n",
              " 'BEG']"
            ]
          },
          "metadata": {},
          "execution_count": 23
        }
      ]
    },
    {
      "cell_type": "code",
      "source": [
        "features[4]"
      ],
      "metadata": {
        "colab": {
          "base_uri": "https://localhost:8080/"
        },
        "id": "5kGak816D2R3",
        "outputId": "0135e82d-1f2c-4f0f-d670-700b217c58fd"
      },
      "execution_count": 24,
      "outputs": [
        {
          "output_type": "execute_result",
          "data": {
            "text/plain": [
              "['word.lower=care',\n",
              " 'word.postag=NOUN',\n",
              " 'word[-3:]=are',\n",
              " 'word[-2:]=re',\n",
              " 'word.isupper=False',\n",
              " 'word.isdigit=False',\n",
              " 'words.startsWithCapital=False',\n",
              " 'prev_word.lower=tertiary',\n",
              " 'prev_word.postag=NOUN',\n",
              " 'prev_word.isupper=False',\n",
              " 'prev_word.isdigit=False',\n",
              " 'prev_words.startsWithCapital=False']"
            ]
          },
          "metadata": {},
          "execution_count": 24
        }
      ]
    },
    {
      "cell_type": "code",
      "source": [
        "features[2]"
      ],
      "metadata": {
        "colab": {
          "base_uri": "https://localhost:8080/"
        },
        "id": "toXloremD5l3",
        "outputId": "bc7e415b-b216-4d69-d948-4012b30babf1"
      },
      "execution_count": 25,
      "outputs": [
        {
          "output_type": "execute_result",
          "data": {
            "text/plain": [
              "['word.lower=at',\n",
              " 'word.postag=NOUN',\n",
              " 'word[-3:]=at',\n",
              " 'word[-2:]=at',\n",
              " 'word.isupper=False',\n",
              " 'word.isdigit=False',\n",
              " 'words.startsWithCapital=False',\n",
              " 'prev_word.lower=rates',\n",
              " 'prev_word.postag=NOUN',\n",
              " 'prev_word.isupper=False',\n",
              " 'prev_word.isdigit=False',\n",
              " 'prev_words.startsWithCapital=False']"
            ]
          },
          "metadata": {},
          "execution_count": 25
        }
      ]
    },
    {
      "cell_type": "markdown",
      "source": [
        "#Write a code/function to get the labels of a sentence"
      ],
      "metadata": {
        "id": "OivUtDBSD-7x"
      }
    },
    {
      "cell_type": "code",
      "source": [
        "# Write a code to get the labels for a sentence.\n",
        "def getLabelsInListForOneSentence(labels):\n",
        "  return labels.split()"
      ],
      "metadata": {
        "id": "R9j9DotoEAmy"
      },
      "execution_count": 26,
      "outputs": []
    },
    {
      "cell_type": "code",
      "source": [
        "# Checking label extraction\n",
        "example_labels = getLabelsInListForOneSentence(train_labels[5])\n",
        "print(example_labels)"
      ],
      "metadata": {
        "colab": {
          "base_uri": "https://localhost:8080/"
        },
        "id": "e124PMKAEFhO",
        "outputId": "e374aea3-9eb7-499c-e2b7-acef949d563d"
      },
      "execution_count": 27,
      "outputs": [
        {
          "output_type": "stream",
          "name": "stdout",
          "text": [
            "['O', 'O', 'O', 'O', 'O', 'O', 'O', 'O', 'O', 'O', 'O', 'O', 'O', 'O', 'O', 'O', 'O', 'O', 'O', 'O', 'O', 'O', 'O', 'O']\n"
          ]
        }
      ]
    },
    {
      "cell_type": "markdown",
      "source": [
        "#Define input and target variables\n",
        "\n",
        "Correctly computing X and Y sequence matrices for training and test data. Check that both sentences and labels are processed\n",
        "\n",
        "##Define the features' values for each sentence as input variable for CRF model in test and the train dataset"
      ],
      "metadata": {
        "id": "KHLTBFhDEI76"
      }
    },
    {
      "cell_type": "code",
      "source": [
        "X_train = [getFeaturesForOneSentence(sentence) for sentence in train_sentences]\n",
        "X_test = [getFeaturesForOneSentence(sentence) for sentence in test_sentences]"
      ],
      "metadata": {
        "id": "EnBLrIJ5EMCe"
      },
      "execution_count": 28,
      "outputs": []
    },
    {
      "cell_type": "markdown",
      "source": [
        "##Define the labels as the target variable for test and the train dataset"
      ],
      "metadata": {
        "id": "YAcIYEjiEPQ5"
      }
    },
    {
      "cell_type": "code",
      "source": [
        "Y_train = [getLabelsInListForOneSentence(labels) for labels in train_labels]\n",
        "Y_test = [getLabelsInListForOneSentence(labels) for labels in test_labels]"
      ],
      "metadata": {
        "id": "Ra1jyN3pEWUV"
      },
      "execution_count": 29,
      "outputs": []
    },
    {
      "cell_type": "markdown",
      "source": [
        "#Build the CRF Model"
      ],
      "metadata": {
        "id": "cZix0ru2Eb9U"
      }
    },
    {
      "cell_type": "code",
      "source": [
        "# Build the CRF model.\n",
        "crf = sklearn_crfsuite.CRF(max_iterations=100, c1=1.0, c2=0.01, all_possible_transitions=False)\n",
        "try:\n",
        "  crf.fit(X_train, Y_train)\n",
        "except AttributeError:\n",
        "  pass"
      ],
      "metadata": {
        "id": "thUT9NoKEbTR"
      },
      "execution_count": 41,
      "outputs": []
    },
    {
      "cell_type": "markdown",
      "source": [
        "#Evaluation\n",
        "\n",
        "Predict the labels of each of the tokens in each sentence of the test dataset that has been pre processed earlier."
      ],
      "metadata": {
        "id": "e_jAx36jEn6N"
      }
    },
    {
      "cell_type": "code",
      "source": [
        "Y_pred = crf.predict(X_test)"
      ],
      "metadata": {
        "id": "VFnfvAFIEsxd"
      },
      "execution_count": 42,
      "outputs": []
    },
    {
      "cell_type": "markdown",
      "source": [
        "Calculate the f1 score using the actual labels and the predicted labels of the test dataset."
      ],
      "metadata": {
        "id": "fk6BJdncEvYK"
      }
    },
    {
      "cell_type": "code",
      "source": [
        "metrics.flat_f1_score(Y_test, Y_pred, average='weighted')"
      ],
      "metadata": {
        "colab": {
          "base_uri": "https://localhost:8080/"
        },
        "id": "qhr7ONRRExuK",
        "outputId": "ff374aee-0163-4a50-a68c-1fb5b456aa03"
      },
      "execution_count": 43,
      "outputs": [
        {
          "output_type": "execute_result",
          "data": {
            "text/plain": [
              "0.9119566533680046"
            ]
          },
          "metadata": {},
          "execution_count": 43
        }
      ]
    },
    {
      "cell_type": "markdown",
      "source": [
        "* An f1-score of nearly 91% is fairly decent.\n",
        "* We shall proceed with this CRF model."
      ],
      "metadata": {
        "id": "lWHzFL3bE1I-"
      }
    },
    {
      "cell_type": "code",
      "source": [
        "# Example test sentence and corresponding actual and predicted labels \n",
        "print(\"Sentence: \",test_sentences[13])\n",
        "print(\"Actual labels:    \", Y_test[13])\n",
        "print(\"Predicted labels: \", Y_pred[13])"
      ],
      "metadata": {
        "colab": {
          "base_uri": "https://localhost:8080/"
        },
        "id": "BULDyfIrE_6x",
        "outputId": "e2f7eb5d-5346-44cd-9e9a-e19202ce028e"
      },
      "execution_count": 44,
      "outputs": [
        {
          "output_type": "stream",
          "name": "stdout",
          "text": [
            "Sentence:  The objective of this study was to determine if the rate of preeclampsia is increased in triplet as compared to twin gestations\n",
            "Actual labels:     ['O', 'O', 'O', 'O', 'O', 'O', 'O', 'O', 'O', 'O', 'O', 'O', 'D', 'O', 'O', 'O', 'O', 'O', 'O', 'O', 'O', 'O']\n",
            "Predicted labels:  ['O', 'O', 'O', 'O', 'O', 'O', 'O', 'O', 'O', 'O', 'O', 'O', 'D', 'O', 'O', 'O', 'O', 'O', 'O', 'O', 'O', 'O']\n"
          ]
        }
      ]
    },
    {
      "cell_type": "code",
      "source": [
        "# Feature list of sentence above\n",
        "print(X_test[13])"
      ],
      "metadata": {
        "colab": {
          "base_uri": "https://localhost:8080/"
        },
        "id": "b4zgj9kBFDmS",
        "outputId": "e5ca2437-c4cc-4aa8-e549-44642dbdc7d0"
      },
      "execution_count": 45,
      "outputs": [
        {
          "output_type": "stream",
          "name": "stdout",
          "text": [
            "[['word.lower=the', 'word.postag=NOUN', 'word[-3:]=The', 'word[-2:]=he', 'word.isupper=False', 'word.isdigit=False', 'words.startsWithCapital=True', 'BEG'], ['word.lower=objective', 'word.postag=NOUN', 'word[-3:]=ive', 'word[-2:]=ve', 'word.isupper=False', 'word.isdigit=False', 'words.startsWithCapital=False', 'prev_word.lower=the', 'prev_word.postag=NOUN', 'prev_word.isupper=False', 'prev_word.isdigit=False', 'prev_words.startsWithCapital=True'], ['word.lower=of', 'word.postag=NOUN', 'word[-3:]=of', 'word[-2:]=of', 'word.isupper=False', 'word.isdigit=False', 'words.startsWithCapital=False', 'prev_word.lower=objective', 'prev_word.postag=NOUN', 'prev_word.isupper=False', 'prev_word.isdigit=False', 'prev_words.startsWithCapital=False'], ['word.lower=this', 'word.postag=NOUN', 'word[-3:]=his', 'word[-2:]=is', 'word.isupper=False', 'word.isdigit=False', 'words.startsWithCapital=False', 'prev_word.lower=of', 'prev_word.postag=NOUN', 'prev_word.isupper=False', 'prev_word.isdigit=False', 'prev_words.startsWithCapital=False'], ['word.lower=study', 'word.postag=NOUN', 'word[-3:]=udy', 'word[-2:]=dy', 'word.isupper=False', 'word.isdigit=False', 'words.startsWithCapital=False', 'prev_word.lower=this', 'prev_word.postag=NOUN', 'prev_word.isupper=False', 'prev_word.isdigit=False', 'prev_words.startsWithCapital=False'], ['word.lower=was', 'word.postag=NOUN', 'word[-3:]=was', 'word[-2:]=as', 'word.isupper=False', 'word.isdigit=False', 'words.startsWithCapital=False', 'prev_word.lower=study', 'prev_word.postag=NOUN', 'prev_word.isupper=False', 'prev_word.isdigit=False', 'prev_words.startsWithCapital=False'], ['word.lower=to', 'word.postag=NOUN', 'word[-3:]=to', 'word[-2:]=to', 'word.isupper=False', 'word.isdigit=False', 'words.startsWithCapital=False', 'prev_word.lower=was', 'prev_word.postag=NOUN', 'prev_word.isupper=False', 'prev_word.isdigit=False', 'prev_words.startsWithCapital=False'], ['word.lower=determine', 'word.postag=NOUN', 'word[-3:]=ine', 'word[-2:]=ne', 'word.isupper=False', 'word.isdigit=False', 'words.startsWithCapital=False', 'prev_word.lower=to', 'prev_word.postag=NOUN', 'prev_word.isupper=False', 'prev_word.isdigit=False', 'prev_words.startsWithCapital=False'], ['word.lower=if', 'word.postag=NOUN', 'word[-3:]=if', 'word[-2:]=if', 'word.isupper=False', 'word.isdigit=False', 'words.startsWithCapital=False', 'prev_word.lower=determine', 'prev_word.postag=NOUN', 'prev_word.isupper=False', 'prev_word.isdigit=False', 'prev_words.startsWithCapital=False'], ['word.lower=the', 'word.postag=NOUN', 'word[-3:]=the', 'word[-2:]=he', 'word.isupper=False', 'word.isdigit=False', 'words.startsWithCapital=False', 'prev_word.lower=if', 'prev_word.postag=NOUN', 'prev_word.isupper=False', 'prev_word.isdigit=False', 'prev_words.startsWithCapital=False'], ['word.lower=rate', 'word.postag=NOUN', 'word[-3:]=ate', 'word[-2:]=te', 'word.isupper=False', 'word.isdigit=False', 'words.startsWithCapital=False', 'prev_word.lower=the', 'prev_word.postag=NOUN', 'prev_word.isupper=False', 'prev_word.isdigit=False', 'prev_words.startsWithCapital=False'], ['word.lower=of', 'word.postag=NOUN', 'word[-3:]=of', 'word[-2:]=of', 'word.isupper=False', 'word.isdigit=False', 'words.startsWithCapital=False', 'prev_word.lower=rate', 'prev_word.postag=NOUN', 'prev_word.isupper=False', 'prev_word.isdigit=False', 'prev_words.startsWithCapital=False'], ['word.lower=preeclampsia', 'word.postag=NOUN', 'word[-3:]=sia', 'word[-2:]=ia', 'word.isupper=False', 'word.isdigit=False', 'words.startsWithCapital=False', 'prev_word.lower=of', 'prev_word.postag=NOUN', 'prev_word.isupper=False', 'prev_word.isdigit=False', 'prev_words.startsWithCapital=False'], ['word.lower=is', 'word.postag=NOUN', 'word[-3:]=is', 'word[-2:]=is', 'word.isupper=False', 'word.isdigit=False', 'words.startsWithCapital=False', 'prev_word.lower=preeclampsia', 'prev_word.postag=NOUN', 'prev_word.isupper=False', 'prev_word.isdigit=False', 'prev_words.startsWithCapital=False'], ['word.lower=increased', 'word.postag=NOUN', 'word[-3:]=sed', 'word[-2:]=ed', 'word.isupper=False', 'word.isdigit=False', 'words.startsWithCapital=False', 'prev_word.lower=is', 'prev_word.postag=NOUN', 'prev_word.isupper=False', 'prev_word.isdigit=False', 'prev_words.startsWithCapital=False'], ['word.lower=in', 'word.postag=NOUN', 'word[-3:]=in', 'word[-2:]=in', 'word.isupper=False', 'word.isdigit=False', 'words.startsWithCapital=False', 'prev_word.lower=increased', 'prev_word.postag=NOUN', 'prev_word.isupper=False', 'prev_word.isdigit=False', 'prev_words.startsWithCapital=False'], ['word.lower=triplet', 'word.postag=NOUN', 'word[-3:]=let', 'word[-2:]=et', 'word.isupper=False', 'word.isdigit=False', 'words.startsWithCapital=False', 'prev_word.lower=in', 'prev_word.postag=NOUN', 'prev_word.isupper=False', 'prev_word.isdigit=False', 'prev_words.startsWithCapital=False'], ['word.lower=as', 'word.postag=NOUN', 'word[-3:]=as', 'word[-2:]=as', 'word.isupper=False', 'word.isdigit=False', 'words.startsWithCapital=False', 'prev_word.lower=triplet', 'prev_word.postag=NOUN', 'prev_word.isupper=False', 'prev_word.isdigit=False', 'prev_words.startsWithCapital=False'], ['word.lower=compared', 'word.postag=NOUN', 'word[-3:]=red', 'word[-2:]=ed', 'word.isupper=False', 'word.isdigit=False', 'words.startsWithCapital=False', 'prev_word.lower=as', 'prev_word.postag=NOUN', 'prev_word.isupper=False', 'prev_word.isdigit=False', 'prev_words.startsWithCapital=False'], ['word.lower=to', 'word.postag=NOUN', 'word[-3:]=to', 'word[-2:]=to', 'word.isupper=False', 'word.isdigit=False', 'words.startsWithCapital=False', 'prev_word.lower=compared', 'prev_word.postag=NOUN', 'prev_word.isupper=False', 'prev_word.isdigit=False', 'prev_words.startsWithCapital=False'], ['word.lower=twin', 'word.postag=NOUN', 'word[-3:]=win', 'word[-2:]=in', 'word.isupper=False', 'word.isdigit=False', 'words.startsWithCapital=False', 'prev_word.lower=to', 'prev_word.postag=NOUN', 'prev_word.isupper=False', 'prev_word.isdigit=False', 'prev_words.startsWithCapital=False'], ['word.lower=gestations', 'word.postag=NOUN', 'word[-3:]=ons', 'word[-2:]=ns', 'word.isupper=False', 'word.isdigit=False', 'words.startsWithCapital=False', 'prev_word.lower=twin', 'prev_word.postag=NOUN', 'prev_word.isupper=False', 'prev_word.isdigit=False', 'prev_words.startsWithCapital=False', 'END']]\n"
          ]
        }
      ]
    },
    {
      "cell_type": "markdown",
      "source": [
        "#Identifying Diseases and Treatments using Custom NER\n",
        "We now use the CRF model's prediction to prepare a record of diseases identified in the corpus and treatments used for the diseases.\n",
        "\n",
        "##Create the logic to get all the predicted treatments (T) labels corresponding to each disease (D) label in the test dataset.\n"
      ],
      "metadata": {
        "id": "VMsf9Z52Fiop"
      }
    },
    {
      "cell_type": "markdown",
      "source": [
        "![image.png](data:image/png;base64,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)"
      ],
      "metadata": {
        "id": "bICqFJTqFuLT"
      }
    },
    {
      "cell_type": "code",
      "source": [
        "# Extracting a dictionary of all the predicted diseases from our test data and the corresponding treatments.\n",
        "# Assumption: For each identified disease, one of the treatments is in the same sentence as the disease exists.\n",
        "disease_treatment = {}            # Initializing an empty dictionary\n",
        "for i in range(len(Y_pred)):\n",
        "    cnt_disease = 0           # Count of number of diseases mentioned in the sentence\n",
        "    cnt_treatment = 0         # Count of the number of treatments mentioned in the sentence\n",
        "    diseases = [\"\"]           # Initializing a blank list of diseases for current sentence.\n",
        "    treatment = [\"\"]          # Initializing a blank list of treatments for current sentence.\n",
        "    length = len(Y_pred[i])   # Length of current sentence.\n",
        "    for j in range(length):\n",
        "        if (Y_pred[i][j] == 'D'):                                                     # Checking for label indicating disease for current word ('D')\n",
        "            diseases[cnt_disease] += (X_test[i][j][0].split('=')[1] + \" \")            # Adding word to diseases list.\n",
        "            if j < length - 1:\n",
        "                if (Y_pred[i][j+1] != 'D'):                                           # Check for name of disease extending over multiple words. \n",
        "                    # If next word does not have label 'D', then truncate the space added at the end of the last word.\n",
        "                    diseases[cnt_disease] = diseases[cnt_disease][:-1]\n",
        "                    cnt_disease += 1\n",
        "                    diseases.append(\"\")                                               # Adding a placeholder for the next disease in the current sentence.\n",
        "            else:\n",
        "                diseases[cnt_disease] = diseases[cnt_disease][:-1]\n",
        "                cnt_disease += 1\n",
        "                diseases.append(\"\")\n",
        "                            \n",
        "        if (Y_pred[i][j] == 'T'):                                                     # Checking for label indicating treatment for current word ('T')\n",
        "            treatment[cnt_treatment] += (X_test[i][j][0].split('=')[1] + \" \") # Adding word to corresponding treatment list.\n",
        "            if j < length - 1:\n",
        "                if (Y_pred[i][j+1] != 'T'):                                           # Check for name of treatment extending over multiple words. \n",
        "                    # If next word does not have label 'T', then truncate the space added at the end of the last word.\n",
        "                    treatment[cnt_treatment] = treatment[cnt_treatment][:-1]\n",
        "                    cnt_treatment += 1\n",
        "                    treatment.append(\"\")                                              # Adding a placeholder for the next treatment in the current sentence.\n",
        "            else:\n",
        "                treatment[cnt_treatment] = treatment[cnt_treatment][:-1]\n",
        "                cnt_treatment += 1\n",
        "                treatment.append(\"\")\n",
        "\n",
        "    diseases.pop(-1)    # Getting rid of the last empty placeholder in diseases list\n",
        "    treatment.pop(-1)   # Getting rid of the last empty placeholder in treatments list\n",
        "\n",
        "    # To our dictionary, add or append treatments to the diseases identified from the current sentence, if any.\n",
        "    if len(diseases) > 0:       # Checking if any diseases have been identified for the current sentence.\n",
        "        for disease in diseases:\n",
        "            if disease in disease_treatment.keys():\n",
        "                # Extend treatment list if other treatments for the particular disease already exist\n",
        "                disease_treatment[disease].extend(treatment)\n",
        "            else:\n",
        "                # Creating list of treatments for particular disease if it doesn not exist already.\n",
        "                disease_treatment[disease] = treatment"
      ],
      "metadata": {
        "id": "9xpCMNVaFxX8"
      },
      "execution_count": 46,
      "outputs": []
    },
    {
      "cell_type": "code",
      "source": [
        "# Displaying dictionary of extracted diseases and potential treatments.\n",
        "disease_treatment"
      ],
      "metadata": {
        "colab": {
          "base_uri": "https://localhost:8080/"
        },
        "id": "lb3IF5rzF_8l",
        "outputId": "3f99abf6-9a8b-46c8-d21b-3212ca111725"
      },
      "execution_count": 47,
      "outputs": [
        {
          "output_type": "execute_result",
          "data": {
            "text/plain": [
              "{'gestational diabetes cases': ['good glycemic control'],\n",
              " 'trisomy 18 fetuses': [],\n",
              " 'preeclampsia': [],\n",
              " 'severe preeclampsia': [],\n",
              " 'asymmetric double hemiplegia': [],\n",
              " 'a subchorial placental hematoma': [],\n",
              " 'reversible nonimmune hydrops fetalis': [],\n",
              " 'breast and/or ovarian cancer': [],\n",
              " 'breast cancer': ['hormone replacement therapy',\n",
              "  'vaccination',\n",
              "  'undergone subcutaneous mastectomy'],\n",
              " 'ovarian cancer': ['hormone replacement therapy',\n",
              "  'vaccination',\n",
              "  'undergone subcutaneous mastectomy'],\n",
              " 'prostate cancer': ['radical prostatectomy and iodine 125 interstitial radiotherapy'],\n",
              " 'mutated prostate cancer': ['radical prostatectomy and iodine 125 interstitial radiotherapy'],\n",
              " 'prostate cancers': [],\n",
              " 'hereditary prostate cancer': [],\n",
              " 'multiple sclerosis': ['interferon beta treatment',\n",
              "  'intravenous immunoglobulin treatment'],\n",
              " 'hereditary retinoblastoma': ['radiotherapy'],\n",
              " 'deafness': ['hearing aids'],\n",
              " 'epilepsy': ['methylphenidate'],\n",
              " 'unstable angina or non-q-wave myocardial infarction': ['roxithromycin'],\n",
              " 'coronary-artery disease': ['antichlamydial antibiotics'],\n",
              " 'early-stage cervical carcinoma': [],\n",
              " 'colon tumors': [],\n",
              " 'advanced disease': [],\n",
              " 'cerebral palsy': ['hyperbaric oxygen therapy'],\n",
              " 'severe pain': [],\n",
              " 'myofascial trigger point pain': [],\n",
              " 'infections': [],\n",
              " 'essential hypertension': ['moxonidine'],\n",
              " 'curtis': [],\n",
              " 'foot infections': [],\n",
              " 'cellulitis': ['g-csf therapy', 'intravenous antibiotic treatment'],\n",
              " 'foot infection': [],\n",
              " 'hemorrhagic stroke': ['double-bolus alteplase', 'alteplase'],\n",
              " 'intracranial hemorrhage': [],\n",
              " 'cardiac disease': [],\n",
              " 'pulmonary hypertension': [],\n",
              " 'rheumatoid arthritis': [],\n",
              " 'stroke victims': [],\n",
              " \"parkinson 's disease\": ['microelectrode-guided posteroventral pallidotomy'],\n",
              " \"early parkinson 's disease\": ['ropinirole monotherapy'],\n",
              " 'sore throat': ['antibiotics'],\n",
              " 'upper respiratory conditions': [],\n",
              " 'postoperative pain relief': [],\n",
              " 'chronic neutropenia': [],\n",
              " 'abdominal tuberculosis': ['steroids'],\n",
              " 'female stress urinary incontinence': ['surgical treatment'],\n",
              " 'stress urinary incontinence': ['therapy'],\n",
              " 'corpal gastritis': [],\n",
              " 'preeclampsia ( proteinuric hypertension )': ['intrauterine insemination with donor sperm versus intrauterine insemination'],\n",
              " 'mild preeclampsia': [],\n",
              " 'myocardial amyloidosis': [],\n",
              " 'heart failure': [],\n",
              " 'amyloidosis': [],\n",
              " 'cardiac amyloid heart disease': [],\n",
              " 'primary al amyloidosis': [],\n",
              " 'retinopathy': [],\n",
              " 'intra-abdominal injury': [],\n",
              " 'tangential gunshot wounds': [],\n",
              " 'intra-abdominal hemorrhage': [],\n",
              " 'cancer': ['organ transplantation and chemotherapy',\n",
              "  'oral drugs',\n",
              "  'matrix metalloproteinase inhibitors'],\n",
              " 'major pulmonary embolism': ['thrombolytic treatment'],\n",
              " 'congestive heart failure': [],\n",
              " 'chronic pulmonary disease': [],\n",
              " 'malignant pleural mesothelioma': ['thoracotomy , radiotherapy , and chemotherapy'],\n",
              " 'additional edema': [],\n",
              " 'dyskinesias': [],\n",
              " 'darier disease': [],\n",
              " 'the darier disease': [],\n",
              " 'tumor necrosis': [],\n",
              " 'syndrome of hemorrhagic shock and encephalopathy': [],\n",
              " 'tss': [],\n",
              " 'pulmonary symptoms attributable': ['chemotherapy'],\n",
              " 'non-obstructive azoospermia': ['testicular fine needle aspiration ( tefna )',\n",
              "  'open biopsy and testicular sperm extraction ( tese )'],\n",
              " 'testicular bleeding': ['fine needle aspiration'],\n",
              " 'mantle cell lymphoma': [],\n",
              " 'b cell lymphomas': [],\n",
              " 'disorder': [],\n",
              " 'acute lymphoblastic leukaemias': [],\n",
              " 'cynictis': [],\n",
              " 'hormonal dysfunction': ['thyroid hormone systems'],\n",
              " 'endometriosis': [],\n",
              " 'diabetes': [],\n",
              " 'hyperlipidemias': [],\n",
              " 'hypertension': [],\n",
              " 'hepatocerebral degeneration ( portal systemic encephalopathy )': [],\n",
              " 'mastitis': [],\n",
              " 'cervical carcinoma': [],\n",
              " 'rhesus haemolytic disease': [],\n",
              " 'malignancy': [],\n",
              " 'duodenal ulcer': ['measured subtotal gastrectomy'],\n",
              " 'childhood schizophrenia': [],\n",
              " 'congenital adrenal hyperplasia': [],\n",
              " \"laennec 's cirrhosis\": [],\n",
              " 'renal stones': [],\n",
              " 'stone disease': [],\n",
              " 'congenital anomalies': [],\n",
              " 'ovarian carcinoma': [],\n",
              " 'gynaecological pain': [],\n",
              " 'corticoid preparations': [],\n",
              " 'heart congestive failure': [],\n",
              " 'biliary indication': [],\n",
              " 'rhinitis': [],\n",
              " 'piglet influenza': [],\n",
              " 'chronic progressive external ophthalmoplegia': [],\n",
              " 'cystic periventricular leukomalacia': [],\n",
              " 'metastasis of laryngeal carcinomas': [],\n",
              " 'hiv infection': [],\n",
              " 'graft spasm': [],\n",
              " 'renal dysfunction': [],\n",
              " 'colorectal cancer': ['elective surgery',\n",
              "  'combination with leucovorin or cisplatin',\n",
              "  'docosahexanoic acid ( dha ) -concentrated fish oil'],\n",
              " \"leukaemia and non-hodgkin 's lymphoma\": [],\n",
              " 'childhood acute lymphoblastic leukaemia': [],\n",
              " 'gastrointestinal tumours': ['elective surgery'],\n",
              " 'chlamydia trachomatis': [],\n",
              " 'anemia of end-stage renal disease': [],\n",
              " 'malignant lymphomas': [],\n",
              " 'polymyalgia rheumatica and temporal arteritis': [],\n",
              " 'coronary heart disease': [],\n",
              " 'primary pulmonary hypertension': [],\n",
              " \"oral crohn 's disease refractory\": ['thalidomide'],\n",
              " 'gestational diabetes': [],\n",
              " 'bronchial asthma': ['non-steroidal anti-inflammatory therapy'],\n",
              " 'disconnection syndrome': [],\n",
              " 'severe accidental hypothermia victims': [],\n",
              " 'hiv/aids': [],\n",
              " 'gunshot wounds': [],\n",
              " 'stroke': [],\n",
              " 'blastocystis hominis infection': [],\n",
              " 'does hyperglycemia really cause coronary heart disease': [],\n",
              " 'primary stomach lymphoma': [],\n",
              " 'systemic lupus erythematosus : mite dermatitis': [],\n",
              " 'lung cancer': [],\n",
              " 'metastatic malignant mesothelioma presenting as colonic polyps': [],\n",
              " 'murine hepatitis virus strain 3 infection': [],\n",
              " 'synovial sarcoma': [],\n",
              " 'fibromyalgia': [],\n",
              " 'small cell lung cancer': [],\n",
              " 'acute respiratory distress syndrome': [],\n",
              " 'homeopathy': [],\n",
              " 'sporadic non-syndromal sensorineural deafness': [],\n",
              " 'chronic hepatitis': [],\n",
              " 'postraumatic stress disorder': [],\n",
              " 'pendred syndrome': [],\n",
              " 'kaposi sarcoma-associated herpesvirus infection': [],\n",
              " 'diabetes and hyperlipidemias': [],\n",
              " 'cardiac insufficiency': [],\n",
              " 'subcutaneous hematomas': [],\n",
              " 'malignant soft tissue sarcomas': [],\n",
              " 'soft tissue sarcomas': ['radiotherapy'],\n",
              " 'intramedullary metastases of bronchogenic carcinoma': [],\n",
              " 'pseudo-lymphoma': [],\n",
              " 'cranial nerve injuries': [],\n",
              " 'auditory perception disorders due to bilateral cortical lesions': [],\n",
              " 'cerebral injuries': [],\n",
              " 'coronary endothelial dysfunction': [],\n",
              " 'myocardial perfusion defects': [],\n",
              " \"alzheimer 's disease\": [],\n",
              " \"eisenmenger 's syndrome\": ['laparoscopic cholecystectomy'],\n",
              " 'continuous ambulatory peritoneal dialysis': [],\n",
              " 'advanced esophageal cancer': ['adjuvant chemoradiotherapy with cddp'],\n",
              " 'sickle cell anemia': [],\n",
              " 'intractable seizures': [],\n",
              " 'new-onset angina preceding acute myocardial infarction': [],\n",
              " 'gorlin syndrome': [],\n",
              " 'congenital bilateral aplasia': [],\n",
              " 'hypercholesterolemia': [],\n",
              " 'insulin-dependent diabetes mellitus': [],\n",
              " 'aids exceptionalism': [],\n",
              " 'myoepithelial carcinoma': [],\n",
              " 'pleomorphic adenoma': [],\n",
              " 'tuberous sclerosis complex': [],\n",
              " 'homocystinuria': [],\n",
              " 'malaria': [],\n",
              " 'severe psoriasis': [],\n",
              " 'trisomy 10 in leukemia': [],\n",
              " 'acute obstructive hydrocephalus complicating bacterial meningitis': [],\n",
              " 'refractory pouchitis': [],\n",
              " 'non-seminomatous germ-cell tumors': ['chemotherapy'],\n",
              " 'orthotopic tumor': [],\n",
              " 'some malignant tumors such as non-small cell lung cancer': ['surgery'],\n",
              " 'advanced nsclc with manageable toxicities': [],\n",
              " 'recurrent cervical adenocarcinoma': [],\n",
              " 'influenza provides': [],\n",
              " 'influenza control': [],\n",
              " 'abdominal pain': [],\n",
              " 'pain': [],\n",
              " 'pleuritic pain': [],\n",
              " 'fungal infections': [],\n",
              " 'inflammatory skin diseases': ['topical corticosteroids'],\n",
              " 'unresectable stage iii nsclc': [],\n",
              " 'nsclc': ['got surgical treatment',\n",
              "  'got surgical treatment',\n",
              "  'platinum-based chemotherapy'],\n",
              " 'sclc': ['got surgical treatment',\n",
              "  'got surgical treatment',\n",
              "  'platinum-based chemotherapy'],\n",
              " 'locally advanced non-small-cell lung cancer ( la-nsclc )': ['chemotherapy and radiotherapy )'],\n",
              " 'radiation-induced myelopathy': ['heparin and enoxaparin'],\n",
              " 'limited stage small cell lung cancer': ['vip combination chemotherapy'],\n",
              " 'malignant pleural effusions from nsclc': ['systemic chemotherapy'],\n",
              " 'small-cell lung cancer': ['chemotherapy', 'combination chemotherapy'],\n",
              " 'intraluminal early-stage cancer': [],\n",
              " 'pathologic stage i non-small cell lung cancer': [],\n",
              " 'supraclavicular node metastases in nsclc': ['chemoradiotherapy'],\n",
              " 'non-small-cell-lung-cancer ( nsclc )': ['cisplatin and radiotherapy'],\n",
              " 'esophageal cancer': [],\n",
              " 'lung cancer )': [],\n",
              " 'osteogenic sarcoma': [],\n",
              " 'lung carcinoma': ['videothoracoscopic lobectomy or partial resection',\n",
              "  'open thoracotomy'],\n",
              " 'stage 0 lung carcinoma': [],\n",
              " 'large lesions': [],\n",
              " 'melanoma': ['surgical resection'],\n",
              " 'ovarian carcinoma brain metastasis': ['surgical resection'],\n",
              " 'colorectal metastases': ['therapeutic vats metastasectomy'],\n",
              " 'limited-stage small-cell carcinoma': [],\n",
              " 'advanced nsclc': ['assessing combination chemotherapy of cisplatin , ifosfamide and irinotecan with rhg-csf support'],\n",
              " 'metastatic colorectal cancer': ['intravenous oxaliplatin'],\n",
              " 'platinum-pretreated ovarian cancer': ['oxaliplatin'],\n",
              " \"non-hodgkin 's lymphoma , breast cancer\": ['oxaliplatin'],\n",
              " 'mesothelioma and non-small cell lung cancer': ['oxaliplatin'],\n",
              " 'other cancers': ['oxaliplatin'],\n",
              " 'primary tumor ( li )': [],\n",
              " 'bronchogenic carcinoma': [],\n",
              " 'non-small cell lung cancer': ['combination with paclitaxel and carboplatin'],\n",
              " 'advanced hormone refractory prostate cancer': ['combination with paclitaxel and carboplatin'],\n",
              " 'primary lung cancer': ['resection'],\n",
              " 'adenocarcinoma': ['resection'],\n",
              " 'squamous cell carcinoma': ['resection'],\n",
              " 'stage iii nsclc': ['chemotherapy administered before surgery or definitive irradiation'],\n",
              " 'symptomatic metastases': [],\n",
              " 'primary cancer': ['adjuvant radiation therapy'],\n",
              " 'advanced non -- small-cell lung cancer': ['determine whether paclitaxel plus carboplatin ( pc )',\n",
              "  'vinorelbine plus cisplatin ( vc )'],\n",
              " 'extensive disease': ['platinum dose ( cisplatin plus carboplatin ) in combination chemotherapy',\n",
              "  'combination therapy with carboplatin alone'],\n",
              " 'untreated small cell lung cancer ( sclc )': [],\n",
              " 'untreated sclc': [],\n",
              " 'neutropenia during cancer': ['chemotherapy'],\n",
              " 'head and neck cancer': ['irradiation therapy', 'intravenous amifostine'],\n",
              " 'carbon monoxide poisoning': [],\n",
              " 'acute myocardial infarction': ['thrombolytic therapy'],\n",
              " 'psoriasis': ['topical application of active vitamin d3 analogue , 1 alpha'],\n",
              " 'disseminated malignant melanoma': ['leukocyte a recombinant interferon ( rifn-alpha a , roferon-a , hoffmann la roche )'],\n",
              " 'ventricular tachycardia': ['guiding surgical therapy'],\n",
              " 'cholestasis': [],\n",
              " 'severe acute hepatitis accompanying cholestasis': [],\n",
              " 'autoimmune hepatitis': [],\n",
              " 'spinal adhesive arachnoiditis': ['surgical management'],\n",
              " 'symptomatic bronchiectasis': ['antibiotics , antibronchoobstructive medication , and chest physical therapy'],\n",
              " 'bronchiectasis': ['antibiotics and surgery', 'current surgical therapy'],\n",
              " 'biliary colic symptoms': ['cholecystectomy'],\n",
              " 'biliary dyskinesia': ['cholecystectomy'],\n",
              " 'the common cold': ['pseudoephedrine plus acetaminophen'],\n",
              " 'pulmonary aspergilloma': [],\n",
              " 'inflammation': ['video-assisted thoracoscopic surgery'],\n",
              " 'viral infections': [],\n",
              " 'asthma': ['fluticasone propionate'],\n",
              " 'pneumocystis carinii pneumonia': [],\n",
              " 'acute nasopharyngitis ( anp )': ['antibiotic treatment'],\n",
              " 'head lice': [],\n",
              " 'symptoms of a common cold': ['macrolide antibiotics'],\n",
              " 'rhinovirus colds': ['clarithromycin'],\n",
              " 'rhinovirus': ['clarithromycin'],\n",
              " 'chronic bronchitis': [],\n",
              " 'pneumonia': [],\n",
              " 'influenza': ['vaccination'],\n",
              " 'influenza a2 ( h2n2 ) virus': [],\n",
              " 'infection': ['a combination of omeprazole , amoxicillin , and clarithromycin'],\n",
              " 'carcinoma': ['drainage methods'],\n",
              " 'persistent asthma': ['contemporary asthma management guidelines list inhaled corticosteroids'],\n",
              " 'chronic hepatitis c': ['combination therapy with interferon-alpha ( ifn alpha ) plus ribavirin'],\n",
              " 'hepatitis c viremia': ['combination therapy'],\n",
              " 'cbd stones': ['one-time surgical exploration'],\n",
              " 'severe hypoxemia': ['glucocorticoid pulse therapy'],\n",
              " 'drug-resistant s. pneumoniae': [],\n",
              " 'bacterial meningitis': [],\n",
              " 'haemophilus influenzae meningitis': [],\n",
              " 'asthmatic bronchitis': [],\n",
              " 'rsv bronchiolitis': [],\n",
              " 'primary sclerosing cholangitis ( psc )': [],\n",
              " 'depression': [],\n",
              " 'chronic renal failure': ['epoetin'],\n",
              " 'ischemic heart disease': ['aortocoronary bypass grafting'],\n",
              " 'preexisting cancers': ['immunotherapy'],\n",
              " 'peritoneal tumors': ['subcutaneous injection of irradiated llc-il2'],\n",
              " 'acute occlusion of the middle cerebral artery': ['thrombolytic therapy'],\n",
              " 'rheumatic pain herbal': [],\n",
              " 'autoimmune diseases': ['high-dose intravenous immunoglobulin ( hdivig )'],\n",
              " 'large midline incisional hernias': [],\n",
              " 'empyema': [],\n",
              " 'low-grade nhl': [],\n",
              " 'large-bowel cancer': [],\n",
              " 'phaeochromocytoma': ['adrenalectomy'],\n",
              " 'malignant melanoma': ['interferon alfa-2a'],\n",
              " 'advanced renal cell carcinoma': ['various interferon alpha preparations',\n",
              "  'interferon alfa-n1 , interferon alfa-2a , and interferon alfa-2b'],\n",
              " 'hairy cell leukemia': [],\n",
              " \"low-grade non-hodgkin 's lymphoma\": ['interferon alpha'],\n",
              " \"low-grade non-hodgkin 's lymphomas\": [],\n",
              " 'chronic myelogenous leukemia ( cml )': [],\n",
              " 'partial seizures': ['lamotrigine ( ltg )', 'lamotrigine monotherapy'],\n",
              " 'esophageal achalasia': ['botulinum toxin injection , pneumatic dilation , and laparoscopic myotomy'],\n",
              " 'irritable bowel syndrome': [],\n",
              " 'proximal hypospadias': [],\n",
              " 'tumors': ['immunotherapy'],\n",
              " 'sickle cell disease': [],\n",
              " 'haematoma block versus intravenous regional anaesthesia': [],\n",
              " 'mitomycin-resistant bladder cancer': ['photodynamic therapy in combination with mitomycin c'],\n",
              " 'b16 melanoma': ['adenosine triphosphate and treatment with buthionine sulfoximine'],\n",
              " 'primary uveal melanoma': ['transpupillary thermotherapy'],\n",
              " 'advanced rectal cancer': ['nerve-sparing surgery'],\n",
              " 'spontaneous pneumothorax': ['thoracoscopic surgery'],\n",
              " 'noncirrhotic portal hypertension': [],\n",
              " 'midline incisional hernias': [],\n",
              " \"non-hodgkin 's lymphoma\": [],\n",
              " 'acute cerebral ischemia': ['antiplatelet therapy'],\n",
              " 'hyperopia': [],\n",
              " 'renal cell carcinoma': ['interferon treatment'],\n",
              " 'odontogenic infections': [],\n",
              " 'myocardial angiogenesis': ['gene therapy'],\n",
              " 'autoimmune hemolytic anemia': ['heparin'],\n",
              " 'epithelial ovarian cancer': ['high-dose chemotherapy'],\n",
              " 'frontal dysfunction': [],\n",
              " 'brain hemorrhage': [],\n",
              " 'atrial fibrillation': [],\n",
              " 'diabetes mellitus': [],\n",
              " 'lymphoma': ['paclitaxel'],\n",
              " 'renovascular hypertension': ['percutaneous transluminal angioplasty'],\n",
              " 'acute repetitive seizures': [],\n",
              " 'moderately symptomatic benign prostatic hyperplasia': ['surgical resection'],\n",
              " 'acoustic neuroma': ['stereotactic radiosurgery'],\n",
              " 'postvitrectomy diabetic vitreous hemorrhage': ['peripheral retinal cryotherapy'],\n",
              " 'acute carbon monoxide poisoning': [],\n",
              " 'hepatitis b': ['vaccine containing mf59 adjuvant'],\n",
              " 'pertussis': [],\n",
              " 'temporomandibular joint arthropathy': ['arthroscopic treatment'],\n",
              " 'acute colonic pseudo-obstruction': [],\n",
              " 'perioperative mortality and myocardial infarction': [],\n",
              " 'severe secondary peritonitis': ['surgical management'],\n",
              " 'hepatic metastases from colorectal cancer': ['hepatic arterial infusion of chemotherapy after resection'],\n",
              " 'severe diverticular hemorrhage': [],\n",
              " 'stable asthma': [],\n",
              " 'arthritis': [],\n",
              " 'poliomyelitis': [],\n",
              " 'live oral poliovirus vaccines': [],\n",
              " 'glaucoma': [],\n",
              " 'responsive multiple myeloma': ['chemoradiotherapy with autologous stem-cell support']}"
            ]
          },
          "metadata": {},
          "execution_count": 47
        }
      ]
    },
    {
      "cell_type": "code",
      "source": [
        "# Obtaining a cleaned version of our \"disease_treatment\" dictionary\n",
        "cleaned_dict = {}\n",
        "for key in disease_treatment.keys():\n",
        "    if disease_treatment[key] != []:\n",
        "        cleaned_dict[key] = disease_treatment[key]\n",
        "cleaned_dict"
      ],
      "metadata": {
        "colab": {
          "base_uri": "https://localhost:8080/"
        },
        "id": "KpGe8jnDGS7x",
        "outputId": "111a8cac-dcd8-4d60-93c4-954396016d28"
      },
      "execution_count": 48,
      "outputs": [
        {
          "output_type": "execute_result",
          "data": {
            "text/plain": [
              "{'gestational diabetes cases': ['good glycemic control'],\n",
              " 'breast cancer': ['hormone replacement therapy',\n",
              "  'vaccination',\n",
              "  'undergone subcutaneous mastectomy'],\n",
              " 'ovarian cancer': ['hormone replacement therapy',\n",
              "  'vaccination',\n",
              "  'undergone subcutaneous mastectomy'],\n",
              " 'prostate cancer': ['radical prostatectomy and iodine 125 interstitial radiotherapy'],\n",
              " 'mutated prostate cancer': ['radical prostatectomy and iodine 125 interstitial radiotherapy'],\n",
              " 'multiple sclerosis': ['interferon beta treatment',\n",
              "  'intravenous immunoglobulin treatment'],\n",
              " 'hereditary retinoblastoma': ['radiotherapy'],\n",
              " 'deafness': ['hearing aids'],\n",
              " 'epilepsy': ['methylphenidate'],\n",
              " 'unstable angina or non-q-wave myocardial infarction': ['roxithromycin'],\n",
              " 'coronary-artery disease': ['antichlamydial antibiotics'],\n",
              " 'cerebral palsy': ['hyperbaric oxygen therapy'],\n",
              " 'essential hypertension': ['moxonidine'],\n",
              " 'cellulitis': ['g-csf therapy', 'intravenous antibiotic treatment'],\n",
              " 'hemorrhagic stroke': ['double-bolus alteplase', 'alteplase'],\n",
              " \"parkinson 's disease\": ['microelectrode-guided posteroventral pallidotomy'],\n",
              " \"early parkinson 's disease\": ['ropinirole monotherapy'],\n",
              " 'sore throat': ['antibiotics'],\n",
              " 'abdominal tuberculosis': ['steroids'],\n",
              " 'female stress urinary incontinence': ['surgical treatment'],\n",
              " 'stress urinary incontinence': ['therapy'],\n",
              " 'preeclampsia ( proteinuric hypertension )': ['intrauterine insemination with donor sperm versus intrauterine insemination'],\n",
              " 'cancer': ['organ transplantation and chemotherapy',\n",
              "  'oral drugs',\n",
              "  'matrix metalloproteinase inhibitors'],\n",
              " 'major pulmonary embolism': ['thrombolytic treatment'],\n",
              " 'malignant pleural mesothelioma': ['thoracotomy , radiotherapy , and chemotherapy'],\n",
              " 'pulmonary symptoms attributable': ['chemotherapy'],\n",
              " 'non-obstructive azoospermia': ['testicular fine needle aspiration ( tefna )',\n",
              "  'open biopsy and testicular sperm extraction ( tese )'],\n",
              " 'testicular bleeding': ['fine needle aspiration'],\n",
              " 'hormonal dysfunction': ['thyroid hormone systems'],\n",
              " 'duodenal ulcer': ['measured subtotal gastrectomy'],\n",
              " 'colorectal cancer': ['elective surgery',\n",
              "  'combination with leucovorin or cisplatin',\n",
              "  'docosahexanoic acid ( dha ) -concentrated fish oil'],\n",
              " 'gastrointestinal tumours': ['elective surgery'],\n",
              " \"oral crohn 's disease refractory\": ['thalidomide'],\n",
              " 'bronchial asthma': ['non-steroidal anti-inflammatory therapy'],\n",
              " 'soft tissue sarcomas': ['radiotherapy'],\n",
              " \"eisenmenger 's syndrome\": ['laparoscopic cholecystectomy'],\n",
              " 'advanced esophageal cancer': ['adjuvant chemoradiotherapy with cddp'],\n",
              " 'non-seminomatous germ-cell tumors': ['chemotherapy'],\n",
              " 'some malignant tumors such as non-small cell lung cancer': ['surgery'],\n",
              " 'inflammatory skin diseases': ['topical corticosteroids'],\n",
              " 'nsclc': ['got surgical treatment',\n",
              "  'got surgical treatment',\n",
              "  'platinum-based chemotherapy'],\n",
              " 'sclc': ['got surgical treatment',\n",
              "  'got surgical treatment',\n",
              "  'platinum-based chemotherapy'],\n",
              " 'locally advanced non-small-cell lung cancer ( la-nsclc )': ['chemotherapy and radiotherapy )'],\n",
              " 'radiation-induced myelopathy': ['heparin and enoxaparin'],\n",
              " 'limited stage small cell lung cancer': ['vip combination chemotherapy'],\n",
              " 'malignant pleural effusions from nsclc': ['systemic chemotherapy'],\n",
              " 'small-cell lung cancer': ['chemotherapy', 'combination chemotherapy'],\n",
              " 'supraclavicular node metastases in nsclc': ['chemoradiotherapy'],\n",
              " 'non-small-cell-lung-cancer ( nsclc )': ['cisplatin and radiotherapy'],\n",
              " 'lung carcinoma': ['videothoracoscopic lobectomy or partial resection',\n",
              "  'open thoracotomy'],\n",
              " 'melanoma': ['surgical resection'],\n",
              " 'ovarian carcinoma brain metastasis': ['surgical resection'],\n",
              " 'colorectal metastases': ['therapeutic vats metastasectomy'],\n",
              " 'advanced nsclc': ['assessing combination chemotherapy of cisplatin , ifosfamide and irinotecan with rhg-csf support'],\n",
              " 'metastatic colorectal cancer': ['intravenous oxaliplatin'],\n",
              " 'platinum-pretreated ovarian cancer': ['oxaliplatin'],\n",
              " \"non-hodgkin 's lymphoma , breast cancer\": ['oxaliplatin'],\n",
              " 'mesothelioma and non-small cell lung cancer': ['oxaliplatin'],\n",
              " 'other cancers': ['oxaliplatin'],\n",
              " 'non-small cell lung cancer': ['combination with paclitaxel and carboplatin'],\n",
              " 'advanced hormone refractory prostate cancer': ['combination with paclitaxel and carboplatin'],\n",
              " 'primary lung cancer': ['resection'],\n",
              " 'adenocarcinoma': ['resection'],\n",
              " 'squamous cell carcinoma': ['resection'],\n",
              " 'stage iii nsclc': ['chemotherapy administered before surgery or definitive irradiation'],\n",
              " 'primary cancer': ['adjuvant radiation therapy'],\n",
              " 'advanced non -- small-cell lung cancer': ['determine whether paclitaxel plus carboplatin ( pc )',\n",
              "  'vinorelbine plus cisplatin ( vc )'],\n",
              " 'extensive disease': ['platinum dose ( cisplatin plus carboplatin ) in combination chemotherapy',\n",
              "  'combination therapy with carboplatin alone'],\n",
              " 'neutropenia during cancer': ['chemotherapy'],\n",
              " 'head and neck cancer': ['irradiation therapy', 'intravenous amifostine'],\n",
              " 'acute myocardial infarction': ['thrombolytic therapy'],\n",
              " 'psoriasis': ['topical application of active vitamin d3 analogue , 1 alpha'],\n",
              " 'disseminated malignant melanoma': ['leukocyte a recombinant interferon ( rifn-alpha a , roferon-a , hoffmann la roche )'],\n",
              " 'ventricular tachycardia': ['guiding surgical therapy'],\n",
              " 'spinal adhesive arachnoiditis': ['surgical management'],\n",
              " 'symptomatic bronchiectasis': ['antibiotics , antibronchoobstructive medication , and chest physical therapy'],\n",
              " 'bronchiectasis': ['antibiotics and surgery', 'current surgical therapy'],\n",
              " 'biliary colic symptoms': ['cholecystectomy'],\n",
              " 'biliary dyskinesia': ['cholecystectomy'],\n",
              " 'the common cold': ['pseudoephedrine plus acetaminophen'],\n",
              " 'inflammation': ['video-assisted thoracoscopic surgery'],\n",
              " 'asthma': ['fluticasone propionate'],\n",
              " 'acute nasopharyngitis ( anp )': ['antibiotic treatment'],\n",
              " 'symptoms of a common cold': ['macrolide antibiotics'],\n",
              " 'rhinovirus colds': ['clarithromycin'],\n",
              " 'rhinovirus': ['clarithromycin'],\n",
              " 'influenza': ['vaccination'],\n",
              " 'infection': ['a combination of omeprazole , amoxicillin , and clarithromycin'],\n",
              " 'carcinoma': ['drainage methods'],\n",
              " 'persistent asthma': ['contemporary asthma management guidelines list inhaled corticosteroids'],\n",
              " 'chronic hepatitis c': ['combination therapy with interferon-alpha ( ifn alpha ) plus ribavirin'],\n",
              " 'hepatitis c viremia': ['combination therapy'],\n",
              " 'cbd stones': ['one-time surgical exploration'],\n",
              " 'severe hypoxemia': ['glucocorticoid pulse therapy'],\n",
              " 'chronic renal failure': ['epoetin'],\n",
              " 'ischemic heart disease': ['aortocoronary bypass grafting'],\n",
              " 'preexisting cancers': ['immunotherapy'],\n",
              " 'peritoneal tumors': ['subcutaneous injection of irradiated llc-il2'],\n",
              " 'acute occlusion of the middle cerebral artery': ['thrombolytic therapy'],\n",
              " 'autoimmune diseases': ['high-dose intravenous immunoglobulin ( hdivig )'],\n",
              " 'phaeochromocytoma': ['adrenalectomy'],\n",
              " 'malignant melanoma': ['interferon alfa-2a'],\n",
              " 'advanced renal cell carcinoma': ['various interferon alpha preparations',\n",
              "  'interferon alfa-n1 , interferon alfa-2a , and interferon alfa-2b'],\n",
              " \"low-grade non-hodgkin 's lymphoma\": ['interferon alpha'],\n",
              " 'partial seizures': ['lamotrigine ( ltg )', 'lamotrigine monotherapy'],\n",
              " 'esophageal achalasia': ['botulinum toxin injection , pneumatic dilation , and laparoscopic myotomy'],\n",
              " 'tumors': ['immunotherapy'],\n",
              " 'mitomycin-resistant bladder cancer': ['photodynamic therapy in combination with mitomycin c'],\n",
              " 'b16 melanoma': ['adenosine triphosphate and treatment with buthionine sulfoximine'],\n",
              " 'primary uveal melanoma': ['transpupillary thermotherapy'],\n",
              " 'advanced rectal cancer': ['nerve-sparing surgery'],\n",
              " 'spontaneous pneumothorax': ['thoracoscopic surgery'],\n",
              " 'acute cerebral ischemia': ['antiplatelet therapy'],\n",
              " 'renal cell carcinoma': ['interferon treatment'],\n",
              " 'myocardial angiogenesis': ['gene therapy'],\n",
              " 'autoimmune hemolytic anemia': ['heparin'],\n",
              " 'epithelial ovarian cancer': ['high-dose chemotherapy'],\n",
              " 'lymphoma': ['paclitaxel'],\n",
              " 'renovascular hypertension': ['percutaneous transluminal angioplasty'],\n",
              " 'moderately symptomatic benign prostatic hyperplasia': ['surgical resection'],\n",
              " 'acoustic neuroma': ['stereotactic radiosurgery'],\n",
              " 'postvitrectomy diabetic vitreous hemorrhage': ['peripheral retinal cryotherapy'],\n",
              " 'hepatitis b': ['vaccine containing mf59 adjuvant'],\n",
              " 'temporomandibular joint arthropathy': ['arthroscopic treatment'],\n",
              " 'severe secondary peritonitis': ['surgical management'],\n",
              " 'hepatic metastases from colorectal cancer': ['hepatic arterial infusion of chemotherapy after resection'],\n",
              " 'responsive multiple myeloma': ['chemoradiotherapy with autologous stem-cell support']}"
            ]
          },
          "metadata": {},
          "execution_count": 48
        }
      ]
    },
    {
      "cell_type": "code",
      "source": [
        "# Converting dictionary to a dataframe\n",
        "cleaned_df = pd.DataFrame({\"Disease\":cleaned_dict.keys(),\"Treatments\":cleaned_dict.values()})\n",
        "cleaned_df.head()"
      ],
      "metadata": {
        "colab": {
          "base_uri": "https://localhost:8080/",
          "height": 206
        },
        "id": "dDO4OcZ_IatW",
        "outputId": "f1eed934-1816-424e-af49-1559f4703bd7"
      },
      "execution_count": 49,
      "outputs": [
        {
          "output_type": "execute_result",
          "data": {
            "text/plain": [
              "                      Disease  \\\n",
              "0  gestational diabetes cases   \n",
              "1               breast cancer   \n",
              "2              ovarian cancer   \n",
              "3             prostate cancer   \n",
              "4     mutated prostate cancer   \n",
              "\n",
              "                                          Treatments  \n",
              "0                            [good glycemic control]  \n",
              "1  [hormone replacement therapy, vaccination, und...  \n",
              "2  [hormone replacement therapy, vaccination, und...  \n",
              "3  [radical prostatectomy and iodine 125 intersti...  \n",
              "4  [radical prostatectomy and iodine 125 intersti...  "
            ],
            "text/html": [
              "\n",
              "  <div id=\"df-25997af8-f0d6-46c6-8f1b-862bfae06186\">\n",
              "    <div class=\"colab-df-container\">\n",
              "      <div>\n",
              "<style scoped>\n",
              "    .dataframe tbody tr th:only-of-type {\n",
              "        vertical-align: middle;\n",
              "    }\n",
              "\n",
              "    .dataframe tbody tr th {\n",
              "        vertical-align: top;\n",
              "    }\n",
              "\n",
              "    .dataframe thead th {\n",
              "        text-align: right;\n",
              "    }\n",
              "</style>\n",
              "<table border=\"1\" class=\"dataframe\">\n",
              "  <thead>\n",
              "    <tr style=\"text-align: right;\">\n",
              "      <th></th>\n",
              "      <th>Disease</th>\n",
              "      <th>Treatments</th>\n",
              "    </tr>\n",
              "  </thead>\n",
              "  <tbody>\n",
              "    <tr>\n",
              "      <th>0</th>\n",
              "      <td>gestational diabetes cases</td>\n",
              "      <td>[good glycemic control]</td>\n",
              "    </tr>\n",
              "    <tr>\n",
              "      <th>1</th>\n",
              "      <td>breast cancer</td>\n",
              "      <td>[hormone replacement therapy, vaccination, und...</td>\n",
              "    </tr>\n",
              "    <tr>\n",
              "      <th>2</th>\n",
              "      <td>ovarian cancer</td>\n",
              "      <td>[hormone replacement therapy, vaccination, und...</td>\n",
              "    </tr>\n",
              "    <tr>\n",
              "      <th>3</th>\n",
              "      <td>prostate cancer</td>\n",
              "      <td>[radical prostatectomy and iodine 125 intersti...</td>\n",
              "    </tr>\n",
              "    <tr>\n",
              "      <th>4</th>\n",
              "      <td>mutated prostate cancer</td>\n",
              "      <td>[radical prostatectomy and iodine 125 intersti...</td>\n",
              "    </tr>\n",
              "  </tbody>\n",
              "</table>\n",
              "</div>\n",
              "      <button class=\"colab-df-convert\" onclick=\"convertToInteractive('df-25997af8-f0d6-46c6-8f1b-862bfae06186')\"\n",
              "              title=\"Convert this dataframe to an interactive table.\"\n",
              "              style=\"display:none;\">\n",
              "        \n",
              "  <svg xmlns=\"http://www.w3.org/2000/svg\" height=\"24px\"viewBox=\"0 0 24 24\"\n",
              "       width=\"24px\">\n",
              "    <path d=\"M0 0h24v24H0V0z\" fill=\"none\"/>\n",
              "    <path d=\"M18.56 5.44l.94 2.06.94-2.06 2.06-.94-2.06-.94-.94-2.06-.94 2.06-2.06.94zm-11 1L8.5 8.5l.94-2.06 2.06-.94-2.06-.94L8.5 2.5l-.94 2.06-2.06.94zm10 10l.94 2.06.94-2.06 2.06-.94-2.06-.94-.94-2.06-.94 2.06-2.06.94z\"/><path d=\"M17.41 7.96l-1.37-1.37c-.4-.4-.92-.59-1.43-.59-.52 0-1.04.2-1.43.59L10.3 9.45l-7.72 7.72c-.78.78-.78 2.05 0 2.83L4 21.41c.39.39.9.59 1.41.59.51 0 1.02-.2 1.41-.59l7.78-7.78 2.81-2.81c.8-.78.8-2.07 0-2.86zM5.41 20L4 18.59l7.72-7.72 1.47 1.35L5.41 20z\"/>\n",
              "  </svg>\n",
              "      </button>\n",
              "      \n",
              "  <style>\n",
              "    .colab-df-container {\n",
              "      display:flex;\n",
              "      flex-wrap:wrap;\n",
              "      gap: 12px;\n",
              "    }\n",
              "\n",
              "    .colab-df-convert {\n",
              "      background-color: #E8F0FE;\n",
              "      border: none;\n",
              "      border-radius: 50%;\n",
              "      cursor: pointer;\n",
              "      display: none;\n",
              "      fill: #1967D2;\n",
              "      height: 32px;\n",
              "      padding: 0 0 0 0;\n",
              "      width: 32px;\n",
              "    }\n",
              "\n",
              "    .colab-df-convert:hover {\n",
              "      background-color: #E2EBFA;\n",
              "      box-shadow: 0px 1px 2px rgba(60, 64, 67, 0.3), 0px 1px 3px 1px rgba(60, 64, 67, 0.15);\n",
              "      fill: #174EA6;\n",
              "    }\n",
              "\n",
              "    [theme=dark] .colab-df-convert {\n",
              "      background-color: #3B4455;\n",
              "      fill: #D2E3FC;\n",
              "    }\n",
              "\n",
              "    [theme=dark] .colab-df-convert:hover {\n",
              "      background-color: #434B5C;\n",
              "      box-shadow: 0px 1px 3px 1px rgba(0, 0, 0, 0.15);\n",
              "      filter: drop-shadow(0px 1px 2px rgba(0, 0, 0, 0.3));\n",
              "      fill: #FFFFFF;\n",
              "    }\n",
              "  </style>\n",
              "\n",
              "      <script>\n",
              "        const buttonEl =\n",
              "          document.querySelector('#df-25997af8-f0d6-46c6-8f1b-862bfae06186 button.colab-df-convert');\n",
              "        buttonEl.style.display =\n",
              "          google.colab.kernel.accessAllowed ? 'block' : 'none';\n",
              "\n",
              "        async function convertToInteractive(key) {\n",
              "          const element = document.querySelector('#df-25997af8-f0d6-46c6-8f1b-862bfae06186');\n",
              "          const dataTable =\n",
              "            await google.colab.kernel.invokeFunction('convertToInteractive',\n",
              "                                                     [key], {});\n",
              "          if (!dataTable) return;\n",
              "\n",
              "          const docLinkHtml = 'Like what you see? Visit the ' +\n",
              "            '<a target=\"_blank\" href=https://colab.research.google.com/notebooks/data_table.ipynb>data table notebook</a>'\n",
              "            + ' to learn more about interactive tables.';\n",
              "          element.innerHTML = '';\n",
              "          dataTable['output_type'] = 'display_data';\n",
              "          await google.colab.output.renderOutput(dataTable, element);\n",
              "          const docLink = document.createElement('div');\n",
              "          docLink.innerHTML = docLinkHtml;\n",
              "          element.appendChild(docLink);\n",
              "        }\n",
              "      </script>\n",
              "    </div>\n",
              "  </div>\n",
              "  "
            ]
          },
          "metadata": {},
          "execution_count": 49
        }
      ]
    },
    {
      "cell_type": "markdown",
      "source": [
        "#Predict the treatment for the disease name: 'hereditary retinoblastoma'"
      ],
      "metadata": {
        "id": "FqJjSLGmIoai"
      }
    },
    {
      "cell_type": "code",
      "source": [
        "search_item = 'hereditary retinoblastoma'\n",
        "treatments = cleaned_dict[search_item]\n",
        "print(\"Treatments for '{0}' is/are \".format(search_item), end = \"\")\n",
        "for i in range(len(treatments)-1):\n",
        "    print(\"'{}'\".format(treatments[i]),\",\", end=\"\")\n",
        "print(\"'{}'\".format(treatments[-1]))"
      ],
      "metadata": {
        "colab": {
          "base_uri": "https://localhost:8080/"
        },
        "id": "yXdVksUOIseA",
        "outputId": "95c765d9-1bf4-4e20-b301-95b3478da1fa"
      },
      "execution_count": 50,
      "outputs": [
        {
          "output_type": "stream",
          "name": "stdout",
          "text": [
            "Treatments for 'hereditary retinoblastoma' is/are 'radiotherapy'\n"
          ]
        }
      ]
    }
  ]
}